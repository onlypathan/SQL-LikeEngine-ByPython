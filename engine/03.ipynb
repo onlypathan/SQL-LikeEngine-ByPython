{
 "cells": [
  {
   "cell_type": "code",
   "execution_count": 3,
   "id": "603f199d-a7f7-4593-96e6-f6f1bab4e924",
   "metadata": {},
   "outputs": [
    {
     "name": "stderr",
     "output_type": "stream",
     "text": [
      "2025-10-18 03:04:57.875 \n",
      "  \u001b[33m\u001b[1mWarning:\u001b[0m to view this Streamlit app on a browser, run it with the following\n",
      "  command:\n",
      "\n",
      "    streamlit run /opt/anaconda3/lib/python3.12/site-packages/ipykernel_launcher.py [ARGUMENTS]\n"
     ]
    }
   ],
   "source": [
    "import streamlit as st\n",
    "\n",
    "# Set the title of the web page\n",
    "st.set_page_config(page_title=\"Hello World\", layout=\"centered\")\n",
    "\n",
    "# Display a simple text message\n",
    "st.title(\"Hello Turtle\")\n",
    "\n",
    "# Optional: Add a button\n",
    "if st.button(\"Click Me\"):\n",
    "    st.write(\"You clicked the button!\")\n",
    "\n",
    "# Optional: Exit button just shows a message\n",
    "if st.button(\"Exit\"):\n",
    "    st.warning(\"There's no real 'Exit' in Streamlit – just close the browser tab.\")\n"
   ]
  },
  {
   "cell_type": "code",
   "execution_count": 2,
   "id": "c6556b7f-cc95-4fe3-a48c-f12cf780e11d",
   "metadata": {},
   "outputs": [
    {
     "name": "stdout",
     "output_type": "stream",
     "text": [
      "PySimpleGUI is now located on a private PyPI server.  Please add to your pip command: -i https://PySimpleGUI.net/install\n",
      "\n",
      "The version you just installed should uninstalled:\n",
      "   python -m pip uninstall PySimpleGUI\n",
      "   python -m pip cache purge\n",
      "\n",
      "Then install the latest from the private server:\n",
      "python -m pip install --upgrade --extra-index-url https://PySimpleGUI.net/install PySimpleGUI\n",
      "\n",
      "You can also force a reinstall using this command and it'll install the latest regardless of what you have installed currently\n",
      "python -m pip install --force-reinstall --extra-index-url https://PySimpleGUI.net/install PySimpleGUI\n",
      "\n",
      "Use python3 command if you're running on the Mac or Linux\n"
     ]
    },
    {
     "ename": "AttributeError",
     "evalue": "module 'PySimpleGUI' has no attribute 'Text'",
     "output_type": "error",
     "traceback": [
      "\u001b[0;31m---------------------------------------------------------------------------\u001b[0m",
      "\u001b[0;31mAttributeError\u001b[0m                            Traceback (most recent call last)",
      "Cell \u001b[0;32mIn[2], line 3\u001b[0m\n\u001b[1;32m      1\u001b[0m \u001b[38;5;28;01mimport\u001b[39;00m \u001b[38;5;21;01mPySimpleGUI\u001b[39;00m\n\u001b[0;32m----> 3\u001b[0m layout \u001b[38;5;241m=\u001b[39m [[PySimpleGUI\u001b[38;5;241m.\u001b[39mText(text\u001b[38;5;241m=\u001b[39m\u001b[38;5;124m\"\u001b[39m\u001b[38;5;124mHello Turtle\u001b[39m\u001b[38;5;124m\"\u001b[39m)]]\n\u001b[1;32m      4\u001b[0m window \u001b[38;5;241m=\u001b[39m PySimpleGUI\u001b[38;5;241m.\u001b[39mWindow(\u001b[38;5;124m'\u001b[39m\u001b[38;5;124mHello World\u001b[39m\u001b[38;5;124m'\u001b[39m, layout, size\u001b[38;5;241m=\u001b[39m(\u001b[38;5;241m500\u001b[39m, \u001b[38;5;241m250\u001b[39m))\n\u001b[1;32m      6\u001b[0m \u001b[38;5;28;01mwhile\u001b[39;00m \u001b[38;5;28;01mTrue\u001b[39;00m:\n",
      "\u001b[0;31mAttributeError\u001b[0m: module 'PySimpleGUI' has no attribute 'Text'"
     ]
    }
   ],
   "source": [
    "import PySimpleGUI\n",
    "\n",
    "layout = [[PySimpleGUI.Text(text=\"Hello Turtle\")]]\n",
    "window = PySimpleGUI.Window('Hello World', layout, size=(500, 250))\n",
    "\n",
    "while True:\n",
    "    event, values = window.read()\n",
    "    print(event, values)\n",
    "    if event in (None, 'Exit'):\n",
    "        break\n",
    "\n",
    "window.close()\n"
   ]
  },
  {
   "cell_type": "code",
   "execution_count": 1,
   "id": "6c351b58-b59a-47e7-ab87-1923f1d18e3c",
   "metadata": {},
   "outputs": [
    {
     "name": "stdout",
     "output_type": "stream",
     "text": [
      "Collecting PySimpleGUI\n",
      "  Downloading pysimplegui-5.0.8.3-py3-none-any.whl.metadata (5.6 kB)\n",
      "Downloading pysimplegui-5.0.8.3-py3-none-any.whl (16 kB)\n",
      "Installing collected packages: PySimpleGUI\n",
      "Successfully installed PySimpleGUI-5.0.8.3\n"
     ]
    }
   ],
   "source": [
    "!pip install PySimpleGUI"
   ]
  },
  {
   "cell_type": "raw",
   "id": "ef516d88-2adf-45f0-a282-a85bbaa9f90b",
   "metadata": {},
   "source": []
  },
  {
   "cell_type": "code",
   "execution_count": 10,
   "id": "847b316f-cd3f-456f-a46b-7a4e09850e3d",
   "metadata": {},
   "outputs": [
    {
     "name": "stdout",
     "output_type": "stream",
     "text": [
      "Restaurant_Name                        | Categories | Review_Count | Score\n",
      "---------------------------------------+------------+--------------+------\n",
      "Los Cinco Puntos                       | Mexican    | 920          | 95.0 \n",
      "Guelaguetza Restaurante                | Mexican    | 3091         | 90.0 \n",
      "Tlayuda L.A. Restaurant                | Mexican    | 906          | 90.0 \n",
      "Guisados DTLA                          | Mexican    | 2180         | 97.0 \n",
      "Guisados                               | Mexican    | 2521         | 94.0 \n",
      "Taqueria Los Anaya                     | Mexican    | 1580         | 95.0 \n",
      "Best Fish Taco In Ensenada             | Mexican    | 2371         | 94.0 \n",
      "El Cartel                              | Mexican    | 663          | 98.0 \n",
      "Mariela's Taco                         | Mexican    | 516          | 90.0 \n",
      "King Taco                              | Mexican    | 1185         | 100.0\n",
      "Tacos Delta                            | Mexican    | 741          | 97.0 \n",
      "El Coyote Cafe                         | Mexican    | 2358         | 97.0 \n",
      "El Zarape                              | Mexican    | 921          | 95.0 \n",
      "Mexicali Taco & Co                     | Mexican    | 1048         | 91.0 \n",
      "EK Valley Restaurant                   | Mexican    | 502          | 93.0 \n",
      "Villa Moreliana                        | Mexican    | 529          | 92.0 \n",
      "Tacos Tumbras a Tomas                  | Mexican    | 1155         | 96.0 \n",
      "Guisados                               | Mexican    | 1061         | 97.0 \n",
      "Tere's Mexican Grill                   | Mexican    | 664          | 90.0 \n",
      "El Huarachito                          | Mexican    | 810          | 97.0 \n",
      "King Taco                              | Mexican    | 594          | 99.0 \n",
      "Carnitas Michoacan                     | Mexican    | 1538         | 94.0 \n",
      "My Taco                                | Mexican    | 744          | 90.0 \n",
      "Paco's Tacos                           | Mexican    | 1395         | 96.0 \n",
      "Taco Spot                              | Mexican    | 660          | 93.0 \n",
      "Paco's Tacos                           | Mexican    | 942          | 90.0 \n",
      "Pinches Tacos                          | Mexican    | 1006         | 93.0 \n",
      "Los Tacos                              | Mexican    | 525          | 95.0 \n",
      "Tony's Mexican Grill                   | Mexican    | 767          | 93.0 \n",
      "La Fiesta Brava                        | Mexican    | 581          | 93.0 \n",
      "La Cabana                              | Mexican    | 1011         | 92.0 \n",
      "Poquito Mas                            | Mexican    | 696          | 90.0 \n",
      "Poquito Más                            | Mexican    | 513          | 98.0 \n",
      "Green Onion Mexican Restaurant         | Mexican    | 647          | 92.0 \n",
      "Que Ricos Fresh Mexican Kitchen        | Mexican    | 556          | 94.0 \n",
      "Leonor's Vegetarian Mexican Restaurant | Mexican    | 552          | 90.0 \n",
      "Taqueria El Tapatio                    | Mexican    | 676          | 96.0 \n",
      "Salsa & Beer                           | Mexican    | 3768         | 94.0 \n",
      "TacosWay                               | Mexican    | 848          | 90.0 \n",
      "Carrillo's Tortilleria                 | Mexican    | 508          | 99.0 \n"
     ]
    }
   ],
   "source": [
    "result = db.select_query(\n",
    "    from_table=\"restaurant_info\",\n",
    "    joins=[(\"inspection_info\", (\"Restaurant_Info_ID\", \"F_Restaurant_Info_ID\"), \"inner\")],\n",
    "    where=[\n",
    "        [(\"restaurant_info.Categories\", \"=\", \"Mexican\"),\n",
    "         (\"restaurant_info.Review_Count\", \">\", 500), \"AND\"]\n",
    "    ],\n",
    "    columns=[\n",
    "        \"restaurant_info.Restaurant_Name\",\n",
    "        \"restaurant_info.Categories\",\n",
    "        \"restaurant_info.Review_Count\",\n",
    "        \"inspection_info.Score\"\n",
    "    ]\n",
    ")\n",
    "db.print_result_table(result)\n"
   ]
  },
  {
   "cell_type": "code",
   "execution_count": 7,
   "id": "0f952a28-11ee-4572-b467-5bd1b4e1975c",
   "metadata": {},
   "outputs": [
    {
     "name": "stdout",
     "output_type": "stream",
     "text": [
      "['restaurant_info.F_Zip_Code_ID', 'restaurant_info.Restaurant_Info_ID', 'restaurant_info.Restaurant_Name', 'restaurant_info.Rating', 'restaurant_info.Review_Count', 'restaurant_info.Price', 'restaurant_info.Restaurant_Address', 'restaurant_info.Restaurant_City', 'restaurant_info.Latitude', 'restaurant_info.Longitude', 'restaurant_info.Categories', 'restaurant_info.Created_At', 'inspection_info.F_Restaurant_Info_ID', 'inspection_info.Inspection_Info_ID', 'inspection_info.Business_Name', 'inspection_info.Inspection_date', 'inspection_info.Score', 'inspection_info.Grade', 'inspection_info.Address1', 'inspection_info.City', 'inspection_info.Name_Similarity_Percentage', 'inspection_info.IFrame_Number', 'inspection_info.Created_At', 'inspection_info.Is_Processed', 'inspection_info.Is_Valid']\n",
      "{'restaurant_info.F_Zip_Code_ID': 1, 'restaurant_info.Restaurant_Info_ID': 8, 'restaurant_info.Restaurant_Name': 'El Senor Taco', 'restaurant_info.Rating': 3.6, 'restaurant_info.Review_Count': 103, 'restaurant_info.Price': '$', 'restaurant_info.Restaurant_Address': '1517 E Florence Ave', 'restaurant_info.Restaurant_City': 'Los Angeles', 'restaurant_info.Latitude': 33.97499, 'restaurant_info.Longitude': -118.24696, 'restaurant_info.Categories': 'Mexican', 'restaurant_info.Created_At': '2025-04-13 14:10:08', 'inspection_info.F_Restaurant_Info_ID': 8, 'inspection_info.Inspection_Info_ID': 1, 'inspection_info.Business_Name': 'EL SENOR TACO', 'inspection_info.Inspection_date': '2025-02-12', 'inspection_info.Score': 97.0, 'inspection_info.Grade': 'A', 'inspection_info.Address1': '1517 E FLORENCE AVE', 'inspection_info.City': 'LOS ANGELES', 'inspection_info.Name_Similarity_Percentage': 100.0, 'inspection_info.IFrame_Number': 904556, 'inspection_info.Created_At': '2025-04-14 00:50:07', 'inspection_info.Is_Processed': 0, 'inspection_info.Is_Valid': 1}\n"
     ]
    }
   ],
   "source": [
    "tmp = db.inner_join(\"restaurant_info\", \"inspection_info\",\n",
    "                    \"Restaurant_Info_ID\", \"F_Restaurant_Info_ID\")\n",
    "print(list(tmp[0].keys()))\n",
    "print(tmp[0])"
   ]
  },
  {
   "cell_type": "code",
   "execution_count": 6,
   "id": "a1380a9b-61be-4dcc-a90b-2137fc82aaab",
   "metadata": {},
   "outputs": [
    {
     "name": "stdout",
     "output_type": "stream",
     "text": [
      "No data found.\n"
     ]
    }
   ],
   "source": [
    "result = db.select_query(\n",
    "    from_table=\"restaurant_info\",\n",
    "    joins=[(\"inspection_info\", (\"Restaurant_Info_ID\", \"F_Restaurant_Info_ID\"), \"inner\")],\n",
    "    where=[\n",
    "        [(\"restaurant_info.Categories\", \"=\", \"Fast Food\"),\n",
    "         (\"restaurant_info.Review_Count\", \">\", 100), \"AND\"],\n",
    "        [(\"restaurant_info.Categories\", \"=\", \"Pizza\"), \"OR\"]\n",
    "    ],\n",
    "    columns=[\n",
    "        \"restaurant_info.Restaurant_Name\",\n",
    "        \"restaurant_info.Categories\",\n",
    "        \"restaurant_info.Review_Count\",\n",
    "        \"inspection_info.Score\"\n",
    "    ]\n",
    ")\n",
    "db.print_result_table(result)\n"
   ]
  },
  {
   "cell_type": "code",
   "execution_count": 3,
   "id": "6e1be06b-279e-4659-ae8a-167e2a181c5f",
   "metadata": {},
   "outputs": [
    {
     "name": "stdout",
     "output_type": "stream",
     "text": [
      "No data found.\n"
     ]
    }
   ],
   "source": [
    "result = db.select_query(\n",
    "    from_table=\"restaurant_info\",\n",
    "    joins=[(\"inspection_info\", (\"Restaurant_Info_ID\", \"F_Restaurant_Info_ID\"), \"inner\")],\n",
    "    where=[\n",
    "        [(\"restaurant_info.Categories\", \"=\", \"Fast Food\"),\n",
    "         (\"restaurant_info.Review_Count\", \">\", 100), \"AND\"],\n",
    "        [(\"restaurant_info.Categories\", \"=\", \"Pizza\"), \"OR\"]\n",
    "    ],\n",
    "    columns=[\n",
    "        \"restaurant_info.Restaurant_Name\",\n",
    "        \"restaurant_info.Categories\",\n",
    "        \"restaurant_info.Review_Count\",\n",
    "        \"inspection_info.Score\"\n",
    "    ]\n",
    ")\n",
    "db.print_result_table(result)\n"
   ]
  },
  {
   "cell_type": "code",
   "execution_count": 4,
   "id": "b982bc14-baaa-4afc-b8bc-1f8819b28665",
   "metadata": {},
   "outputs": [
    {
     "name": "stdout",
     "output_type": "stream",
     "text": [
      "Restaurant_Name                | Categories | Review_Count | Score\n",
      "-------------------------------+------------+--------------+------\n",
      "Bangin Buns                    | Fast Food  | 110          | 93.0 \n",
      "Pioneer Chicken                | Fast Food  | 564          | 95.0 \n",
      "Golden Ox                      | Fast Food  | 62           | 94.0 \n",
      "Amanecer Ylobasqence Y Familia | Fast Food  | 13           | 92.0 \n",
      "Louisiana Fried Chicken        | Fast Food  | 12           | 91.0 \n",
      "Cafe El Colibri                | Fast Food  | 1            | 90.0 \n",
      "SKECHERS Food Spot             | Fast Food  | 273          | 97.0 \n",
      "Basil Thai Kitchen             | Fast Food  | 18           | 97.0 \n",
      "Fry Shack                      | Fast Food  | 8            | 96.0 \n"
     ]
    }
   ],
   "source": [
    "result = db.select_query(\n",
    "    from_table=\"restaurant_info\",\n",
    "    joins=[(\"inspection_info\", (\"Restaurant_Info_ID\", \"F_Restaurant_Info_ID\"), \"inner\")],\n",
    "    where=[\n",
    "        [(\"restaurant_info.Categories\", \"=\", \"Fast Food\"),],\n",
    "    ],\n",
    "    columns=[\n",
    "        \"restaurant_info.Restaurant_Name\",\n",
    "        \"restaurant_info.Categories\",\n",
    "        \"restaurant_info.Review_Count\",\n",
    "        \"inspection_info.Score\"\n",
    "    ]\n",
    ")\n",
    "db.print_result_table(result)\n"
   ]
  },
  {
   "cell_type": "code",
   "execution_count": null,
   "id": "f11664f4-4030-4238-bd10-dd0fb5a299d9",
   "metadata": {},
   "outputs": [],
   "source": []
  },
  {
   "cell_type": "code",
   "execution_count": 5,
   "id": "f437cb4c-f7eb-43c1-8c1a-39d12612f78d",
   "metadata": {},
   "outputs": [
    {
     "ename": "ValueError",
     "evalue": "too many values to unpack (expected 3)",
     "output_type": "error",
     "traceback": [
      "\u001b[0;31m---------------------------------------------------------------------------\u001b[0m",
      "\u001b[0;31mValueError\u001b[0m                                Traceback (most recent call last)",
      "Cell \u001b[0;32mIn[5], line 2\u001b[0m\n\u001b[1;32m      1\u001b[0m db \u001b[38;5;241m=\u001b[39m get_database()\n\u001b[0;32m----> 2\u001b[0m result \u001b[38;5;241m=\u001b[39m db\u001b[38;5;241m.\u001b[39mselect_query(\n\u001b[1;32m      3\u001b[0m     from_table\u001b[38;5;241m=\u001b[39m\u001b[38;5;124m\"\u001b[39m\u001b[38;5;124mrestaurant_info\u001b[39m\u001b[38;5;124m\"\u001b[39m,\n\u001b[1;32m      4\u001b[0m     where\u001b[38;5;241m=\u001b[39m[\n\u001b[1;32m      5\u001b[0m         (\u001b[38;5;124m\"\u001b[39m\u001b[38;5;124mrestaurant_info.Categories\u001b[39m\u001b[38;5;124m\"\u001b[39m, \u001b[38;5;124m\"\u001b[39m\u001b[38;5;124m=\u001b[39m\u001b[38;5;124m\"\u001b[39m, \u001b[38;5;124m\"\u001b[39m\u001b[38;5;124mFast Food\u001b[39m\u001b[38;5;124m\"\u001b[39m),\n\u001b[1;32m      6\u001b[0m     ],\n\u001b[1;32m      7\u001b[0m     columns\u001b[38;5;241m=\u001b[39m[\n\u001b[1;32m      8\u001b[0m         \u001b[38;5;124m\"\u001b[39m\u001b[38;5;124mrestaurant_info.Restaurant_Name\u001b[39m\u001b[38;5;124m\"\u001b[39m,\n\u001b[1;32m      9\u001b[0m         \u001b[38;5;124m\"\u001b[39m\u001b[38;5;124mrestaurant_info.Review_Count\u001b[39m\u001b[38;5;124m\"\u001b[39m\n\u001b[1;32m     10\u001b[0m     ]\n\u001b[1;32m     11\u001b[0m )\n\u001b[1;32m     12\u001b[0m db\u001b[38;5;241m.\u001b[39mprint_result_table(result)\n",
      "Cell \u001b[0;32mIn[1], line 417\u001b[0m, in \u001b[0;36mget_database.<locals>.CustomCSVParser.MyCustomDB.select_query\u001b[0;34m(self, from_table, joins, where, group_by, agg_col, agg_fn, columns, order_by, descending)\u001b[0m\n\u001b[1;32m    414\u001b[0m \u001b[38;5;66;03m# Apply WHERE\u001b[39;00m\n\u001b[1;32m    415\u001b[0m \u001b[38;5;66;03m# Apply WHERE\u001b[39;00m\n\u001b[1;32m    416\u001b[0m \u001b[38;5;28;01mif\u001b[39;00m where:\n\u001b[0;32m--> 417\u001b[0m     rows \u001b[38;5;241m=\u001b[39m \u001b[38;5;28mself\u001b[39m\u001b[38;5;241m.\u001b[39mselect_where(base, where)   \u001b[38;5;66;03m# ← use current base table (tmpTable after join)\u001b[39;00m\n\u001b[1;32m    418\u001b[0m     \u001b[38;5;66;03m# Re-apply prefixes only if the base is the original table (when no join)\u001b[39;00m\n\u001b[1;32m    419\u001b[0m     \u001b[38;5;28;01mif\u001b[39;00m base \u001b[38;5;241m==\u001b[39m from_table:\n",
      "Cell \u001b[0;32mIn[1], line 256\u001b[0m, in \u001b[0;36mget_database.<locals>.CustomCSVParser.MyCustomDB.select_where\u001b[0;34m(self, table_name, where)\u001b[0m\n\u001b[1;32m    253\u001b[0m connectors \u001b[38;5;241m=\u001b[39m []\n\u001b[1;32m    255\u001b[0m \u001b[38;5;28;01mfor\u001b[39;00m group \u001b[38;5;129;01min\u001b[39;00m where:\n\u001b[0;32m--> 256\u001b[0m     g_res, g_logic \u001b[38;5;241m=\u001b[39m evaluate_group(row, group)\n\u001b[1;32m    257\u001b[0m     group_results\u001b[38;5;241m.\u001b[39mappend(g_res)\n\u001b[1;32m    259\u001b[0m     \u001b[38;5;66;03m# Last token in group defines connector between groups\u001b[39;00m\n",
      "Cell \u001b[0;32mIn[1], line 243\u001b[0m, in \u001b[0;36mget_database.<locals>.CustomCSVParser.MyCustomDB.select_where.<locals>.evaluate_group\u001b[0;34m(row, group)\u001b[0m\n\u001b[1;32m    241\u001b[0m         logic \u001b[38;5;241m=\u001b[39m cond\u001b[38;5;241m.\u001b[39mupper()\n\u001b[1;32m    242\u001b[0m         \u001b[38;5;28;01mcontinue\u001b[39;00m\n\u001b[0;32m--> 243\u001b[0m     col, op, val \u001b[38;5;241m=\u001b[39m cond\n\u001b[1;32m    244\u001b[0m     results\u001b[38;5;241m.\u001b[39mappend(match_row(row, col, op, val))\n\u001b[1;32m    245\u001b[0m \u001b[38;5;66;03m# Apply logic within the group\u001b[39;00m\n",
      "\u001b[0;31mValueError\u001b[0m: too many values to unpack (expected 3)"
     ]
    }
   ],
   "source": [
    "db = get_database()\n",
    "result = db.select_query(\n",
    "    from_table=\"restaurant_info\",\n",
    "    where=[\n",
    "        (\"restaurant_info.Categories\", \"=\", \"Fast Food\"),\n",
    "    ],\n",
    "    columns=[\n",
    "        \"restaurant_info.Restaurant_Name\",\n",
    "        \"restaurant_info.Review_Count\"\n",
    "    ]\n",
    ")\n",
    "db.print_result_table(result)"
   ]
  },
  {
   "cell_type": "code",
   "execution_count": null,
   "id": "31e91f14-4643-45a1-ba16-e6c1758bd67d",
   "metadata": {},
   "outputs": [],
   "source": [
    "result = db.select_query(\n",
    "    from_table=\"demographics_info\",\n",
    "    agg_col=\"demographics_info.Total_Population\",\n",
    "    agg_fn=\"max\",  # or min\n",
    "    columns=[\"demographics_info.max_Total_Population\"]\n",
    ")\n",
    "for row in result:\n",
    "    print(row)\n",
    "db.print_result_table(result)"
   ]
  },
  {
   "cell_type": "code",
   "execution_count": null,
   "id": "aedf1a67-896d-48c5-b709-57e231d3ae40",
   "metadata": {},
   "outputs": [],
   "source": [
    "\n",
    "# Need to test this\n",
    "result = db.select_query(\n",
    "    from_table=\"restaurant_info\",\n",
    "    joins=[(\"inspection_info\", (\"Restaurant_Info_ID\", \"F_Restaurant_Info_ID\"), \"inner\")],\n",
    "    agg_col=\"inspection_info.Score\",\n",
    "    agg_fn=\"avg\",\n",
    "    columns=[\"inspection_info.avg_Score\"]\n",
    ")\n",
    "for row in result:\n",
    "    print(row)\n",
    "db.print_result_table(result)"
   ]
  },
  {
   "cell_type": "code",
   "execution_count": null,
   "id": "1e876437-e018-4589-a4b5-4ac45f044004",
   "metadata": {},
   "outputs": [],
   "source": [
    "db = get_database()\n",
    "# Non-grouped SUM\n",
    "result = db.select_query(\n",
    "    from_table=\"demographics_info\",\n",
    "    agg_col=\"demographics_info.Total_Population\",\n",
    "    agg_fn=\"sum\",\n",
    "    columns=[\"demographics_info.sum_Total_Population\"]\n",
    ")\n",
    "\n",
    "for row in result:\n",
    "    print(row)\n",
    "db.print_result_table(result)"
   ]
  },
  {
   "cell_type": "code",
   "execution_count": null,
   "id": "d659a7ed-2a6c-43d3-93b3-7a8933814431",
   "metadata": {
    "scrolled": true
   },
   "outputs": [],
   "source": [
    "\n",
    "result = db.select_query(\n",
    "    from_table=\"restaurant_info\",\n",
    "    columns=[\"restaurant_info.Restaurant_Name\",\"restaurant_info.Categories\",  \"restaurant_info.Review_Count\"],\n",
    "    order_by=[\"restaurant_info.Restaurant_Name\", \"restaurant_info.Review_Count\"],\n",
    "    descending=[False, True]\n",
    ")\n",
    "db.print_result_table(result)"
   ]
  },
  {
   "cell_type": "code",
   "execution_count": null,
   "id": "54bb3489-625f-4173-8634-6c06f9295090",
   "metadata": {},
   "outputs": [],
   "source": [
    "db = get_database()\n",
    "result = db.select_query(\n",
    "    from_table=\"restaurant_info\",\n",
    "    where=[\n",
    "        (\"restaurant_info.Categories\", \"=\", \"Fast Food\"),\n",
    "    ],\n",
    "    columns=[\n",
    "        \"restaurant_info.Restaurant_Name\",\n",
    "        \"restaurant_info.Review_Count\"\n",
    "    ]\n",
    ")\n",
    "db.print_result_table(result)"
   ]
  },
  {
   "cell_type": "code",
   "execution_count": null,
   "id": "de0afedd-4007-4dac-b053-2d221d692f95",
   "metadata": {
    "scrolled": true
   },
   "outputs": [],
   "source": [
    "db = get_database()\n",
    "result = db.select_query(\n",
    "    from_table=\"restaurant_info\",\n",
    "    where=[\n",
    "         (\"restaurant_info.Categories\", \">\", \"Fast Food\")\n",
    "    ],\n",
    "    columns=[\"restaurant_info.Restaurant_Name\", \"restaurant_info.Categories\", \"restaurant_info.Review_Count\"]\n",
    ")\n",
    "db.print_result_table(result)"
   ]
  },
  {
   "cell_type": "code",
   "execution_count": null,
   "id": "fc98937a-9cb8-4a77-8e15-69c0ccc26c87",
   "metadata": {
    "scrolled": true
   },
   "outputs": [],
   "source": [
    "result = db.select_query(\n",
    "    from_table=\"restaurant_info\",\n",
    "    columns=[\"restaurant_info.Restaurant_Name\", \"restaurant_info.Categories\", \"restaurant_info.Review_Count\"],\n",
    "    order_by=[\"restaurant_info.Review_Count\",\"restaurant_info.Restaurant_Name\"],\n",
    "    descending=[True, True]\n",
    ")\n",
    "db.print_result_table(result)"
   ]
  },
  {
   "cell_type": "code",
   "execution_count": null,
   "id": "61a7c22b-73cd-4322-9791-71f4bf7816d4",
   "metadata": {},
   "outputs": [],
   "source": [
    "\n",
    "db = get_database()\n",
    "#db.print_table(\"restaurant_info\")\n",
    "result = db.select_query(\n",
    "    from_table=\"restaurant_info\",\n",
    "    agg_col=\"restaurant_info.Rating\",\n",
    "    agg_fn=\"sum\",\n",
    "    columns=[\"restaurant_info.sum_Rating\"]\n",
    ")\n",
    "for row in result:\n",
    "    print(row)\n",
    "db.print_result_table(result)"
   ]
  },
  {
   "cell_type": "code",
   "execution_count": null,
   "id": "8fb1746c-761c-4a2d-8765-8edb0f439f9b",
   "metadata": {
    "scrolled": true
   },
   "outputs": [],
   "source": [
    "#db.print_table(\"restaurant_info\")\n",
    "db = get_database()\n",
    "result = db.select_query(\n",
    "    from_table=\"restaurant_info\",\n",
    "    joins=[(\"inspection_info\", (\"Restaurant_Info_ID\", \"F_Restaurant_Info_ID\"), \"inner\")],\n",
    "    group_by=\"restaurant_info.Categories\",\n",
    "    agg_col=\"inspection_info.Score\",\n",
    "    agg_fn=\"avg\",\n",
    "    columns=[\"restaurant_info.Categories\",\"inspection_info.avg_Score\"]\n",
    ")\n",
    "#db.print_table(\"inspection_info\")\n",
    "db.print_result_table(result)\n",
    "for row in result:\n",
    "    print(row)"
   ]
  },
  {
   "cell_type": "code",
   "execution_count": null,
   "id": "a214dc7f-05e7-4289-a5f9-e8cec8136ef2",
   "metadata": {},
   "outputs": [],
   "source": [
    "\n",
    "db = get_database()\n",
    "# Non-grouped SUM\n",
    "result = db.select_query(\n",
    "    from_table=\"demographics_info\",\n",
    "    agg_col=\"demographics_info.Total_Population\",\n",
    "    agg_fn=\"sum\",\n",
    "    columns=[\"demographics_info.sum_Total_Population\"]\n",
    ")\n",
    "\n",
    "for row in result:\n",
    "    print(row)\n",
    "db.print_result_table(result)"
   ]
  },
  {
   "cell_type": "code",
   "execution_count": null,
   "id": "a513fa99-77db-47d0-9bf5-4c80d64b56cb",
   "metadata": {
    "scrolled": true
   },
   "outputs": [],
   "source": [
    "result = db.select_query(\n",
    "    from_table=\"demographics_info\",\n",
    "    agg_col=\"demographics_info.Total_Population\",\n",
    "    agg_fn=\"sum\",\n",
    "    columns=[\"demographics_info.sum_Total_Population\"]\n",
    ")# SUM\n",
    "\n",
    "\n",
    "result = db.select_query(\n",
    "    from_table=\"demographics_info\",\n",
    "    group_by=\"demographics_info.F_Zip_Code_ID\",\n",
    "    agg_col=\"demographics_info.Total_Population\",\n",
    "    agg_fn=\"sum\",\n",
    "    columns=[\"demographics_info.F_Zip_Code_ID\", \"demographics_info.sum_Total_Population\"]\n",
    ")\n",
    "\n",
    "\n",
    "\n",
    "# AVG\n",
    "result = db.select_query(\n",
    "    from_table=\"restaurant_info\",\n",
    "    joins=[(\"inspection_info\", (\"Restaurant_Info_ID\", \"F_Restaurant_Info_ID\"), \"inner\")],\n",
    "    group_by=\"restaurant_info.Restaurant_Name\",\n",
    "    agg_col=\"inspection_info.Score\",\n",
    "    agg_fn=\"avg\",\n",
    "    columns=[\"restaurant_info.Restaurant_Name\", \"inspection_info.avg_Score\"]\n",
    ")\n",
    "for row in result:\n",
    "    print(row)\n",
    "db.print_result_table(result)\n",
    "# Need to test this\n",
    "result = db.select_query(\n",
    "    from_table=\"restaurant_info\",\n",
    "    joins=[(\"inspection_info\", (\"Restaurant_Info_ID\", \"F_Restaurant_Info_ID\"), \"inner\")],\n",
    "    agg_col=\"inspection_info.Score\",\n",
    "    agg_fn=\"avg\",\n",
    "    columns=[\"inspection_info.avg_Score\"]\n",
    ")\n",
    "\n",
    "\n",
    "# COUNT\n",
    "result = db.select_query(\n",
    "    from_table=\"restaurant_info\",\n",
    "    agg_col=\"restaurant_info.Rating\",\n",
    "    agg_fn=\"count\",\n",
    "    columns=[\"restaurant_info.count_Rating\"]\n",
    ")\n",
    "\n",
    "# MIN / MAX\n",
    "result = db.select_query(\n",
    "    from_table=\"demographics_info\",\n",
    "    group_by=\"demographics_info.F_Zip_Code_ID\",\n",
    "    agg_col=\"demographics_info.Population\",\n",
    "    agg_fn=\"min\",  # or min\n",
    "    columns=[\"demographics_info.F_Zip_Code_ID\", \"demographics_info.min_Total_Population\"]\n",
    ")\n",
    "\n"
   ]
  },
  {
   "cell_type": "code",
   "execution_count": null,
   "id": "b3724253-52e5-403b-b9a4-019585978ab4",
   "metadata": {},
   "outputs": [],
   "source": []
  },
  {
   "cell_type": "code",
   "execution_count": null,
   "id": "5c9cd65e-5743-4068-86cb-db9b82f98369",
   "metadata": {},
   "outputs": [],
   "source": [
    "result = db.select_query(\n",
    "    from_table=\"restaurant_info\",\n",
    "    joins=[(\"inspection_info\", (\"Restaurant_Info_ID\", \"F_Restaurant_Info_ID\"), \"inner\")],\n",
    "    where=[\n",
    "        (\"restaurant_info.Categories\", \"=\", \"Fast Food\"),\n",
    "        (\"restaurant_info.Review_Count\", \">\", 100),\n",
    "    ],\n",
    "    columns=[\n",
    "        \"restaurant_info.Restaurant_Name\",\n",
    "        \"restaurant_info.Review_Count\",\n",
    "        \"inspection_info.Score\"\n",
    "    ]\n",
    ")\n",
    "db.print_result_table(result)\n"
   ]
  },
  {
   "cell_type": "code",
   "execution_count": null,
   "id": "fde440a5-fd09-42d5-926b-e4c4f511640a",
   "metadata": {},
   "outputs": [],
   "source": [
    "result = db.select_query(\n",
    "    from_table=\"restaurant_info\",\n",
    "    joins=[(\"inspection_info\", (\"Restaurant_Info_ID\", \"F_Restaurant_Info_ID\"), \"inner\")],\n",
    "    where=[\n",
    "        (\"restaurant_info.Categories\", \"=\", \"Fast Food\"),\n",
    "    ],\n",
    "    columns=[\"restaurant_info.Restaurant_Name\",\"restaurant_info.Created_At\", \"inspection_info.Score\",\"restaurant_info.Review_Count\", \"inspection_info.Created_At\"]\n",
    ")\n",
    "db.print_result_table(result)\n"
   ]
  },
  {
   "cell_type": "code",
   "execution_count": null,
   "id": "f37cfa2f-cc5a-45e7-9dbd-c52a29d3a2d6",
   "metadata": {},
   "outputs": [],
   "source": []
  }
 ],
 "metadata": {
  "kernelspec": {
   "display_name": "Python 3 (ipykernel)",
   "language": "python",
   "name": "python3"
  },
  "language_info": {
   "codemirror_mode": {
    "name": "ipython",
    "version": 3
   },
   "file_extension": ".py",
   "mimetype": "text/x-python",
   "name": "python",
   "nbconvert_exporter": "python",
   "pygments_lexer": "ipython3",
   "version": "3.12.7"
  }
 },
 "nbformat": 4,
 "nbformat_minor": 5
}
