{
 "cells": [
  {
   "cell_type": "code",
   "execution_count": 2,
   "id": "1ef159b0-d50b-42fb-b128-8090c49deace",
   "metadata": {},
   "outputs": [],
   "source": [
    "\n",
    "from main import MyCustomMiniSQLEngine\n",
    "MyCMSE = MyCustomMiniSQLEngine()"
   ]
  },
  {
   "cell_type": "code",
   "execution_count": 3,
   "id": "1ad53f39-eccc-420b-8760-3cb7eafd11f6",
   "metadata": {},
   "outputs": [
    {
     "name": "stdout",
     "output_type": "stream",
     "text": [
      "Categories                                      | avg_Score\n",
      "------------------------------------------------+----------\n",
      "Southern, Chicken Shop, American                | 98.0     \n",
      "Sandwiches, Breakfast & Brunch, American        | 98.0     \n",
      "Burgers, Cocktail Bars, Sandwiches              | 98.0     \n",
      "Breakfast & Brunch, Sandwiches                  | 97.0     \n",
      "Mexican, Vegan, Breakfast & Brunch              | 96.0     \n",
      "Korean, Soup                                    | 96.0     \n",
      "Japanese, Asian Fusion, New American            | 94.0     \n",
      "French, Breakfast & Brunch, Cocktail Bars       | 94.0     \n",
      "Mexican                                         | 93.62    \n",
      "Breakfast & Brunch, Coffee & Tea, Cocktail Bars | 93.0     \n",
      "Italian, Desserts, Breakfast & Brunch           | 92.0     \n",
      "Ramen, Noodles, Desserts                        | 91.0     \n",
      "Ramen, Noodles                                  | 91.0     \n",
      "New American, Breakfast & Brunch, Sandwiches    | 90.0     \n",
      "New American, Breakfast & Brunch, Cocktail Bars | 90.0     \n",
      "{'restaurant_info.Categories': 'Southern, Chicken Shop, American', 'inspection_info.avg_Score': 98.0}\n",
      "{'restaurant_info.Categories': 'Sandwiches, Breakfast & Brunch, American', 'inspection_info.avg_Score': 98.0}\n",
      "{'restaurant_info.Categories': 'Burgers, Cocktail Bars, Sandwiches', 'inspection_info.avg_Score': 98.0}\n",
      "{'restaurant_info.Categories': 'Breakfast & Brunch, Sandwiches', 'inspection_info.avg_Score': 97.0}\n",
      "{'restaurant_info.Categories': 'Mexican, Vegan, Breakfast & Brunch', 'inspection_info.avg_Score': 96.0}\n",
      "{'restaurant_info.Categories': 'Korean, Soup', 'inspection_info.avg_Score': 96.0}\n",
      "{'restaurant_info.Categories': 'Japanese, Asian Fusion, New American', 'inspection_info.avg_Score': 94.0}\n",
      "{'restaurant_info.Categories': 'French, Breakfast & Brunch, Cocktail Bars', 'inspection_info.avg_Score': 94.0}\n",
      "{'restaurant_info.Categories': 'Mexican', 'inspection_info.avg_Score': 93.62}\n",
      "{'restaurant_info.Categories': 'Breakfast & Brunch, Coffee & Tea, Cocktail Bars', 'inspection_info.avg_Score': 93.0}\n",
      "{'restaurant_info.Categories': 'Italian, Desserts, Breakfast & Brunch', 'inspection_info.avg_Score': 92.0}\n",
      "{'restaurant_info.Categories': 'Ramen, Noodles, Desserts', 'inspection_info.avg_Score': 91.0}\n",
      "{'restaurant_info.Categories': 'Ramen, Noodles', 'inspection_info.avg_Score': 91.0}\n",
      "{'restaurant_info.Categories': 'New American, Breakfast & Brunch, Sandwiches', 'inspection_info.avg_Score': 90.0}\n",
      "{'restaurant_info.Categories': 'New American, Breakfast & Brunch, Cocktail Bars', 'inspection_info.avg_Score': 90.0}\n"
     ]
    }
   ],
   "source": [
    "result = MyCMSE.select_query(\n",
    "    from_table=\"restaurant_info\",\n",
    "    joins=[(\"inspection_info\", (\"Restaurant_Info_ID\", \"F_Restaurant_Info_ID\"), \"inner\")],\n",
    "    where=[\n",
    "        [(\"restaurant_info.Categories\", \"=\", \"Mexican\"),\n",
    "         (\"restaurant_info.Review_Count\", \">\", 5000), \"or\"]\n",
    "    ],\n",
    "    group_by=\"restaurant_info.Categories\",\n",
    "    agg_col=\"inspection_info.Score\",\n",
    "    agg_fn=\"avg\",\n",
    "    columns=[\"restaurant_info.Categories\",\"inspection_info.avg_Score\"],\n",
    "    order_by=[\"inspection_info.avg_Score\", \"restaurant_info.Categories\"],\n",
    "    descending=[True, True]\n",
    ")\n",
    "#db.print_table(\"inspection_info\")\n",
    "MyCMSE.print_result_table(result)\n",
    "for row in result:\n",
    "    print(row)"
   ]
  },
  {
   "cell_type": "code",
   "execution_count": null,
   "id": "e2ee8f29-2948-4185-9915-5b732550776c",
   "metadata": {},
   "outputs": [],
   "source": []
  }
 ],
 "metadata": {
  "kernelspec": {
   "display_name": "Python 3 (ipykernel)",
   "language": "python",
   "name": "python3"
  },
  "language_info": {
   "codemirror_mode": {
    "name": "ipython",
    "version": 3
   },
   "file_extension": ".py",
   "mimetype": "text/x-python",
   "name": "python",
   "nbconvert_exporter": "python",
   "pygments_lexer": "ipython3",
   "version": "3.12.7"
  }
 },
 "nbformat": 4,
 "nbformat_minor": 5
}
